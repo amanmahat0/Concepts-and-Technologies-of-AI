{
 "cells": [
  {
   "cell_type": "markdown",
   "id": "47078820-a1b4-461d-9a07-6a4f7ac5e841",
   "metadata": {},
   "source": [
    "**Aman Kumar Mahato** <br>\n",
    "**L5CG13**<br>\n",
    "**Worksheet_0**"
   ]
  },
  {
   "cell_type": "markdown",
   "id": "763e3c45-acbd-4ca9-b0ff-4a41a025ab6b",
   "metadata": {},
   "source": [
    "**TO - DO - TASK**\n"
   ]
  },
  {
   "cell_type": "markdown",
   "id": "919322de-206a-4980-891e-8a4cc3bcf951",
   "metadata": {},
   "source": [
    "**Task 1. Classify Temperatures:** <br>\n",
    "Sample Code - List of temperature measured at Tribhuwan International Airport.\r",
    "12.5]\n"
   ]
  },
  {
   "cell_type": "code",
   "execution_count": 11,
   "id": "eb2b2272-e77e-44e4-92bb-e8d71e5c4e55",
   "metadata": {},
   "outputs": [],
   "source": [
    "temperatures = [8.2, 17.4, 14.1, 7.9, 18.0, 13.5, 9.0, 17.8, 13.0, 8.5,\n",
    "16.5, 12.9, 7.7, 17.2, 13.3, 8.4, 16.7, 14.0, 9.5, 18.3, 13.4, 8.1,\n",
    "17.9, 14.2, 7.6, 17.0, 12.8, 8.0, 16.8, 13.7, 7.8, 17.5, 13.6, 8.7,\n",
    "17.1, 13.8, 9.2, 18.1, 13.9, 8.3, 16.4, 12.7, 8.9, 18.2, 13.1, 7.8,\n",
    "16.6, 12.5]"
   ]
  },
  {
   "cell_type": "markdown",
   "id": "1bb7a013-c87e-43f2-80e3-9d4f7dc99226",
   "metadata": {},
   "source": [
    "1. Create empty lists for temperature classifications: <br>\n",
    "(a) Cold: temperatures below 10°C. <br>\n",
    "(b) Mild: temperatures between 10°C and 15°C. <br>\n",
    "(c) Comfortable: temperatures between 15°C and 20°C. \n",
    "<br>\n",
    "2. Iterate over the temperatures list and add each temperature to the appropriate cate-\n",
    "gory.\n",
    "<br>\n",
    "3. Print the lists to verify the classifications."
   ]
  },
  {
   "cell_type": "code",
   "execution_count": 32,
   "id": "4f0a3789-14ee-46f7-92bc-d98d36c6524d",
   "metadata": {},
   "outputs": [
    {
     "name": "stdout",
     "output_type": "stream",
     "text": [
      "Cold temperatures: [8.2, 7.9, 9.0, 8.5, 7.7, 8.4, 9.5, 8.1, 7.6, 8.0, 7.8, 8.7, 9.2, 8.3, 8.9, 7.8]\n",
      "Mild temperatures: [14.1, 13.5, 13.0, 12.9, 13.3, 14.0, 13.4, 14.2, 12.8, 13.7, 13.6, 13.8, 13.9, 12.7, 13.1, 12.5]\n",
      "Comfortable temperatures: [17.4, 18.0, 17.8, 16.5, 17.2, 16.7, 18.3, 17.9, 17.0, 16.8, 17.5, 17.1, 18.1, 16.4, 18.2, 16.6]\n"
     ]
    }
   ],
   "source": [
    "cold = []\n",
    "mild = []\n",
    "comfortable = []\n",
    "\n",
    "for temp in temperatures:\n",
    "    if temp < 10:\n",
    "        cold.append(temp)\n",
    "    elif 10 <= temp < 15:\n",
    "        mild.append(temp)\n",
    "    elif 15 <= temp < 20:\n",
    "        comfortable.append(temp)\n",
    "        \n",
    "print(\"Cold temperatures:\", cold)\n",
    "print(\"Mild temperatures:\", mild)\n",
    "print(\"Comfortable temperatures:\", comfortable)\n"
   ]
  },
  {
   "cell_type": "markdown",
   "id": "8dae6315-e422-4f84-bd54-c794e3987234",
   "metadata": {},
   "source": [
    "**Task 2. Based on Data - Answer all the Questions:** <br>\n",
    "1. How many times was it mild?\r\n",
    "(a) Hint: Count the number of items in the mild list and print the result.\r\n",
    "2. How many times was it comfortable?\r\n",
    "3. How many times was it cold?"
   ]
  },
  {
   "cell_type": "code",
   "execution_count": 31,
   "id": "8abd7f58-8435-4124-a765-edbda34158c2",
   "metadata": {},
   "outputs": [
    {
     "name": "stdout",
     "output_type": "stream",
     "text": [
      "It was 16 times mild\n",
      "It was 16 times comfortable\n",
      "It was 16 times cold\n"
     ]
    }
   ],
   "source": [
    "print(f\"It was {len(mild)} times mild\")\n",
    "print(f\"It was {len(comfortable)} times comfortable\")\n",
    "print(f\"It was {len(cold)} times cold\")"
   ]
  },
  {
   "cell_type": "markdown",
   "id": "30603623-1d7e-49cf-b7e2-28caa823e374",
   "metadata": {},
   "source": [
    "**Task 3. Convert Temperatures from Celsius to Fahrenheit**\n",
    "<br>\n",
    "Using the formula for temperature conversion, convert each reading from Celsius to Fahren-\n",
    "heit and store it in a new list called temperatures_fahrenheit.\n",
    "<br>\n",
    "Formula: Fahrenheit = (Celsius × 9/5) + 32\n",
    "<br>\n",
    "1. Iterate over the temperatures list and apply the formula to convert each temperature. <br>\n",
    "2. Store the results in the new list.<br>\n",
    "3. Print the converted Fahrenheit values."
   ]
  },
  {
   "cell_type": "code",
   "execution_count": 8,
   "id": "0be369a2-6f3b-408e-9197-f538eaefbabe",
   "metadata": {},
   "outputs": [
    {
     "name": "stdout",
     "output_type": "stream",
     "text": [
      "[46.76, 63.31999999999999, 57.379999999999995, 46.22, 64.4, 56.3, 48.2, 64.03999999999999, 55.400000000000006, 47.3, 61.7, 55.22, 45.86, 62.96, 55.94, 47.120000000000005, 62.06, 57.2, 49.1, 64.94, 56.120000000000005, 46.58, 64.22, 57.56, 45.68, 62.6, 55.040000000000006, 46.4, 62.24, 56.66, 46.04, 63.5, 56.480000000000004, 47.66, 62.78, 56.84, 48.56, 64.58000000000001, 57.019999999999996, 46.94, 61.519999999999996, 54.86, 48.019999999999996, 64.75999999999999, 55.58, 46.04, 61.88, 54.5]\n"
     ]
    }
   ],
   "source": [
    "temperatures_fahrenheit = []\n",
    "for temps in temperatures:\n",
    "    fahrenheit = (temps *(9/5))+32\n",
    "    temperatures_fahrenheit.append(fahrenheit)\n",
    "print(temperatures_fahrenheit)"
   ]
  },
  {
   "cell_type": "markdown",
   "id": "12d0f21c-b1e5-4972-a38b-5bdc79693633",
   "metadata": {},
   "source": [
    "**Task 4. Analyze Temperature Patterns by Time of Day:** <br>\n",
    "Scenario: Each day’s readings are grouped as:<br>\n",
    "• Night (00-08),<br>\n",
    "• Evening (08-16),<br>\n",
    "• Day (16-24).<br>\n",
    "1. Create empty lists for night, day, and evening temperatures.<br>\n",
    "2. Iterate over the temperatures list, assigning values to each time-of-day list based on\n",
    "their position.<br>\n",
    "3. Calculate and print the average day-time temperature.<br>\n",
    "4. (Optional) Plot ”day vs. temperature” using matplotlib."
   ]
  },
  {
   "cell_type": "code",
   "execution_count": 13,
   "id": "ade8bad2-421b-42d0-a850-f3145f45c89b",
   "metadata": {},
   "outputs": [
    {
     "name": "stdout",
     "output_type": "stream",
     "text": [
      "[14.1, 13.5, 13.0, 12.9, 13.3, 14.0, 13.4, 14.2, 12.8, 13.7, 13.6, 13.8, 13.9, 12.7, 13.1, 12.5]\n",
      "[17.4, 18.0, 17.8, 16.5, 17.2, 16.7, 18.3, 17.9, 17.0, 16.8, 17.5, 17.1, 18.1, 16.4, 18.2, 16.6]\n",
      "[7.9, 9.0, 8.5, 7.7, 8.4, 9.5, 8.1, 7.6, 8.0, 7.8, 8.7, 9.2, 8.3, 8.9, 7.8]\n",
      "Average Daytime Temperature: 17.34°C\n"
     ]
    },
    {
     "data": {
      "image/png": "[encoded data removed]",
      "text/plain": [
       "<Figure size 500x300 with 1 Axes>"
      ]
     },
     "metadata": {},
     "output_type": "display_data"
    }
   ],
   "source": [
    "import matplotlib.pyplot as plt\n",
    "\n",
    "night = []\n",
    "evening = []\n",
    "day = []\n",
    "\n",
    "for i in range(1 ,len(temperatures)):\n",
    "    if i % 3 == 2:\n",
    "        night.append(temperatures[i])\n",
    "    elif i % 3 == 1:\n",
    "        day.append(temperatures[i])\n",
    "    elif i % 3 == 0:\n",
    "        evening.append(temperatures[i])\n",
    "\n",
    "print(night)\n",
    "print(day)\n",
    "print(evening)\n",
    "\n",
    "#average day temperature\n",
    "avg_day_temp = sum(day) / len(day)\n",
    "print(f\"Average Daytime Temperature: {avg_day_temp:.2f}°C\")\n",
    "    \n",
    "time_labels = ['Night', 'Evening', 'Day']\n",
    "temps = [sum(night)/len(night), sum(evening)/len(evening), avg_day_temp]\n",
    "\n",
    "plt.figure(figsize=(5, 3))\n",
    "plt.bar(time_labels, temps, color=['blue', 'orange', 'green'])\n",
    "plt.title('Average Temperature by Time of Day atTribhuwan International Airport')\n",
    "plt.ylabel('Temperature (°C)')\n",
    "plt.xlabel('Time of Day')\n",
    "plt.show()\n"
   ]
  },
  {
   "cell_type": "markdown",
   "id": "55efb3be-a6ac-4de6-ab77-4b725c21939d",
   "metadata": {},
   "source": [
    "• Write a recursive function sum_nested_list(nested_list) that:\n",
    "1. Takes a nested list (a list that can contain numbers or other lists of numbers) as\n",
    "input.\n",
    "2. Sums all numbers at every depth level of the list, regardless of how deeply nested\n",
    "the numbers are. <br>\n",
    "• Test the function with a sample nested list, such as\n",
    "nested_list = [1, [2, [3, 4], 5], 6, [7, 8]]."
   ]
  },
  {
   "cell_type": "code",
   "execution_count": 3,
   "id": "0003451e-a9e2-4656-b5d5-8020c1afa6b5",
   "metadata": {},
   "outputs": [
    {
     "name": "stdout",
     "output_type": "stream",
     "text": [
      "36\n",
      "42\n"
     ]
    }
   ],
   "source": [
    "def sum_nested_list(nested_list):\n",
    "    \"\"\"\n",
    "    Calculate the sum of all numbers in a nested list.\n",
    "    This function takes a list that may contain integers and other nested lists.\n",
    "    It recursively traverses the list and sums all the integers, no matter how deeply\n",
    "    nested they are.\n",
    "\n",
    "    Args:\n",
    "    nested_list (list): A list that may contain integers or other lists of integers.\n",
    "\n",
    "    Returns:\n",
    "    int: The total sum of all integers in the nested list, including those in sublists.\n",
    "\n",
    "    Example:\n",
    "    >>> sum_nested_list([1, [2, [3, 4], 5], 6, [7, 8]])\n",
    "    36\n",
    "    >>> sum_nested_list([1, [2, 3], [4, [5]]])\n",
    "    15\n",
    "    \"\"\"\n",
    "    total = 0\n",
    "    for element in nested_list:\n",
    "        if isinstance(element, list):  # Check if the element is a list\n",
    "            total += sum_nested_list(element)  # Recursively sum the nested list\n",
    "        else:\n",
    "            total += element  # Add the number to the total\n",
    "    return total  # Ensure return is outside the loop\n",
    "\n",
    "# Test cases\n",
    "nested_list1 = [1, [2, [3, 4], 5], 6, [7, 8]]\n",
    "nested_list2 = [[1, [2, [3, 4], 6], 5], 6, [7, 8]]\n",
    "print(sum_nested_list(nested_list1))\n",
    "print(sum_nested_list(nested_list2))\n"
   ]
  },
  {
   "cell_type": "markdown",
   "id": "78b2fbed-a3d2-45c0-8d8d-4f98e2f99f41",
   "metadata": {},
   "source": [
    "• Write a recursive function generate_permutations(s) that: <br>\n",
    "– Takes a string s as input and returns a list of all unique permutations. <br>\n",
    "• Test with strings like ”abc” and ”aab”. <br>\n",
    "\n",
    "print(generate_permutations(\"abc\")) <br>\n",
    " Should return [’abc’, ’acb’, ’bac’, ’bca’, ’cab’, ’cba’]"
   ]
  },
  {
   "cell_type": "code",
   "execution_count": 4,
   "id": "2f21999f-a8b0-484a-8a69-5a26f043d1bc",
   "metadata": {},
   "outputs": [
    {
     "name": "stdout",
     "output_type": "stream",
     "text": [
      "['aab', 'aba', 'aab', 'aba', 'baa', 'baa']\n",
      "['abc', 'acb', 'bac', 'bca', 'cab', 'cba']\n"
     ]
    }
   ],
   "source": [
    "def generate_permutations(s):\n",
    "    if len(s) == 1:\n",
    "        return [s]\n",
    "    permutation = []\n",
    "    for i in range(len(s)):\n",
    "        char = s[i]\n",
    "        remaning = s[:i]+s[i+1:]\n",
    "        for j in generate_permutations(remaning):\n",
    "            permutation.append(char+j)\n",
    "    return permutation\n",
    "\n",
    "print(generate_permutations(\"aab\"))\n",
    "print(generate_permutations(\"abc\"))\n",
    "        "
   ]
  },
  {
   "cell_type": "markdown",
   "id": "8ce61a4d-ca8c-4815-bce5-bbf9efde6187",
   "metadata": {},
   "source": [
    "1. Write a recursive function calculate_directory_size(directory) where:<br>\n",
    "• directory is a dictionary where keys represent file names (with values as sizes in KB) or directory names (with values as another dictionary representing a subdi-rectory). <br>\n",
    "\n",
    "• The function should return the total size of the directory, including all nested\r\n",
    "subdirectories <br>.\r\n",
    "2. Test the function with a sample directory structure."
   ]
  },
  {
   "cell_type": "code",
   "execution_count": 20,
   "id": "4c43b664-199d-4ad1-b720-9fb8d82665e7",
   "metadata": {},
   "outputs": [
    {
     "name": "stdout",
     "output_type": "stream",
     "text": [
      "size of directory structure is 1400 KB.\n",
      "Size of Empty directory: 0\n",
      "Deeply nested directory: 1900\n"
     ]
    }
   ],
   "source": [
    "\n",
    "def  calculate_directory_size(directory):\n",
    "    total_size = 0\n",
    "    for i in directory.values():\n",
    "        if isinstance(i, dict):\n",
    "            total_size += calculate_directory_size(i)\n",
    "        else:\n",
    "            total_size += i\n",
    "    return total_size\n",
    "\n",
    "size = calculate_directory_size(directory_structure)\n",
    "print(f\"size of directory structure is {size} KB.\")\n",
    "\n",
    "#Test cases\n",
    "directory_structure={\n",
    " \"file1.txt\":200,\n",
    " \"file2.txt\":300,\n",
    " \"subdir1\":{\n",
    " \"file3.txt\":400,\n",
    " \"file4.txt\":100\n",
    " },\n",
    " \"subdir2\":{\n",
    " \"subsubdir1\":{\n",
    " \"file5.txt\":250\n",
    " },\n",
    " \"file6.txt\": 150\n",
    " }\n",
    "}\n",
    "\n",
    "# Empty directory\n",
    "print(\"Size of Empty directory:\", calculate_directory_size({}))\n",
    "\n",
    "# Sample dictionary\n",
    "example_nested_dir = {\n",
    "    \"class1\": {\n",
    "        \"class2\": {\n",
    "            \"class3\": {\n",
    "                \"file1.txt\": 1000\n",
    "            },\n",
    "            \"file2.txt\": 500\n",
    "        }\n",
    "    },\n",
    "    \"file3\": 400\n",
    "}\n",
    "print(\"Deeply nested directory:\", calculate_directory_size(example_nested_dir))"
   ]
  },
  {
   "cell_type": "markdown",
   "id": "394e3949-b6d9-4891-8b52-1f0a3f9d1326",
   "metadata": {},
   "source": [
    "**Task 1 - Coin Change Problem:**<br>\n",
    "1. Write a function min_coins(coins, amount) that:<br>\n",
    "• Uses DP to calculate the minimum number of coins needed to make up the\n",
    "amount. <br>\n",
    "2. Test with coins = [1, 2, 5] and amount = 11. The result should be 3 (using coins\n",
    "[5, 5, 1])."
   ]
  },
  {
   "cell_type": "code",
   "execution_count": 23,
   "id": "6715e45d-22ae-402f-9245-49564626a66d",
   "metadata": {},
   "outputs": [
    {
     "name": "stdout",
     "output_type": "stream",
     "text": [
      "Coins [1, 2, 5], Amount 11:\n",
      "Minimum number of coins needed: 3\n"
     ]
    }
   ],
   "source": [
    "def min_coins(coins, amount):\n",
    "    dp = [float('inf')] * (amount + 1)\n",
    "    dp[0] = 0\n",
    "    for current_amount in range(1, amount + 1):\n",
    "        for coin in coins:\n",
    "            if coin <= current_amount:\n",
    "                dp[current_amount] = min(\n",
    "                    dp[current_amount],\n",
    "                    dp[current_amount - coin] + 1\n",
    "                )\n",
    "    return dp[amount] if dp[amount] != float('inf') else -1\n",
    "\n",
    "coins = [1, 2, 5]\n",
    "amount = 11\n",
    "result = min_coins(coins, amount)\n",
    "print(f\"Coins {coins}, Amount {amount}:\")\n",
    "print(f\"Minimum number of coins needed: {result}\")\n",
    "\n"
   ]
  },
  {
   "cell_type": "markdown",
   "id": "af41a5b6-201f-4ac0-ae26-55666fc817a6",
   "metadata": {},
   "source": [
    "**Task 2 - Longest Common Subsequence (LCS):** <br>\n",
    "Task: <br>\n",
    "1. Write a function longest_common_subsequence(s1, s2) that: <br>\n",
    "• Uses DP to find the length of the LCS of two strings s1 and s2.<br>\n",
    "2. Test with strings like \"abcde\" and \"ace\"; the LCS length should be 3 (\"ace\")."
   ]
  },
  {
   "cell_type": "code",
   "execution_count": 27,
   "id": "8254d48e-511a-4e0a-aea9-539fcb1e7183",
   "metadata": {},
   "outputs": [
    {
     "name": "stdout",
     "output_type": "stream",
     "text": [
      "The longest common sequence is  3\n"
     ]
    }
   ],
   "source": [
    "def longest_common_subsequence(s1,s2):\n",
    "    m, n = len(s1), len(s2)\n",
    "    dp = [] \n",
    "    for i in range(m + 1): \n",
    "        dp.append([0] * (n +1))\n",
    "        \n",
    "    for i in range(m+1):\n",
    "        for j in range(n+1):\n",
    "            if i == 0 or j == 0:\n",
    "                dp[i][j]=0\n",
    "            elif s1[i-1] == s2[j-1]:\n",
    "                dp[i][j] = dp[i-1][j-1]+1\n",
    "            else: \n",
    "                dp[i][j] = max(dp[i-1][j], dp[i][j-1])\n",
    "    return dp[m][n]\n",
    "    \n",
    "print(\"The longest common sequence is \", longest_common_subsequence(\"abcde\",\"ace\"))"
   ]
  },
  {
   "cell_type": "markdown",
   "id": "9e58627c-f48b-486d-beee-69c494c084aa",
   "metadata": {},
   "source": [
    "**Task 3 - 0/1 Knapsack Problem:** <br>\n",
    "Task:<br>\n",
    "1. Write a function knapsack(weights, values, capacity) that:<br>\n",
    "• Uses DP to determine the maximum value that can be achieved within the given\n",
    "weight capacity.<br>\n",
    "\n",
    "2. Test with weights [1, 3, 4, 5], values [1, 4, 5, 7], and capacity 7. The re-\n",
    "sult should be 9."
   ]
  },
  {
   "cell_type": "code",
   "execution_count": 28,
   "id": "34c284e5-6cd8-4941-b667-a8dc0aee6108",
   "metadata": {},
   "outputs": [
    {
     "name": "stdout",
     "output_type": "stream",
     "text": [
      "9\n"
     ]
    }
   ],
   "source": [
    "def knapsack(weights, values, capacity):\n",
    "    m = len(weights)\n",
    "    dp =[]\n",
    "    for i in range(m + 1):\n",
    "        dp.append([0]*(capacity + 1))\n",
    "        \n",
    "    for i in range(m + 1):\n",
    "        for j in range(capacity + 1):\n",
    "            if i == 0 or j == 0:\n",
    "                dp[i][j] = 0\n",
    "            elif weights[i-1] <= j:\n",
    "                dp[i][j]= max(values[i-1] + dp[i-1][(j - weights[i-1])], dp[i-1][j])\n",
    "            else:\n",
    "                dp[i][j]=dp[i-1][j]\n",
    "    return dp[m][capacity]\n",
    "\n",
    "print(knapsack([1, 3, 4, 5],[1, 4, 5, 7],7))"
   ]
  },
  {
   "cell_type": "code",
   "execution_count": null,
   "id": "594fd33a-609f-4960-b69b-ddfe138a2b59",
   "metadata": {},
   "outputs": [],
   "source": []
  }
 ],
 "metadata": {
  "kernelspec": {
   "display_name": "Python 3 (ipykernel)",
   "language": "python",
   "name": "python3"
  },
  "language_info": {
   "codemirror_mode": {
    "name": "ipython",
    "version": 3
   },
   "file_extension": ".py",
   "mimetype": "text/x-python",
   "name": "python",
   "nbconvert_exporter": "python",
   "pygments_lexer": "ipython3",
   "version": "3.12.4"
  }
 },
 "nbformat": 4,
 "nbformat_minor": 5
}
