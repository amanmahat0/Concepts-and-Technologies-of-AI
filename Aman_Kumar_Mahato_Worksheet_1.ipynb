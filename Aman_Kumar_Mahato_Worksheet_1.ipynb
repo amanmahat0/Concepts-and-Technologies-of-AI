{
 "cells": [
  {
   "cell_type": "markdown",
   "id": "d1edf15c-4f2f-424c-8ca0-02197aa64baf",
   "metadata": {},
   "source": [
    "Aman Kumar Mahato<br>\n",
    "L5CG13<br>\n",
    "Worksheet_1\n"
   ]
  },
  {
   "cell_type": "markdown",
   "id": "990d556d-1dec-4e3c-a732-e502351107e6",
   "metadata": {},
   "source": [
    "**TO - DO - Task**<br>\n",
    "**Please complete all the problem listed below.**"
   ]
  },
  {
   "cell_type": "markdown",
   "id": "96ac9bbf-cb83-4cf5-ac0f-5c45722f5c83",
   "metadata": {},
   "source": [
    "**Problem - 1: Array Creation:<br>\n",
    "Complete the following Tasks:**"
   ]
  },
  {
   "cell_type": "markdown",
   "id": "8d6dbd9d-6f34-48c7-8090-126fcac79055",
   "metadata": {},
   "source": [
    "1. Initialize an empty array with size 2X2."
   ]
  },
  {
   "cell_type": "code",
   "execution_count": 3,
   "id": "27f81b91-bd89-4e95-9e44-00b32090a703",
   "metadata": {},
   "outputs": [
    {
     "data": {
      "text/plain": [
       "array([[2.12199579e-314, 0.00000000e+000],\n",
       "       [5.21733322e-321, 6.95293141e-310]])"
      ]
     },
     "execution_count": 3,
     "metadata": {},
     "output_type": "execute_result"
    }
   ],
   "source": [
    "import numpy as np\n",
    "empty_array = np.empty((2, 2))\n",
    "empty_array"
   ]
  },
  {
   "cell_type": "markdown",
   "id": "c55affbb-84b7-44c5-9838-140c20d7ccab",
   "metadata": {},
   "source": [
    "2. Initialize an all one array with size 4X2."
   ]
  },
  {
   "cell_type": "code",
   "execution_count": 6,
   "id": "b137bf4c-0ad0-48aa-a12d-c9dc76873dc6",
   "metadata": {},
   "outputs": [
    {
     "data": {
      "text/plain": [
       "array([[1., 1.],\n",
       "       [1., 1.],\n",
       "       [1., 1.],\n",
       "       [1., 1.]])"
      ]
     },
     "execution_count": 6,
     "metadata": {},
     "output_type": "execute_result"
    }
   ],
   "source": [
    "one_array = np.ones((4, 2))\n",
    "one_array"
   ]
  },
  {
   "cell_type": "markdown",
   "id": "50649a8d-26a5-4093-993a-20b6a3ff31b2",
   "metadata": {},
   "source": [
    "3. Return a new array of given shape and type, filled with fill value.{Hint: np.full}"
   ]
  },
  {
   "cell_type": "code",
   "execution_count": 13,
   "id": "eb6a03cb-b782-4ded-a031-e49a3eac6d27",
   "metadata": {},
   "outputs": [
    {
     "data": {
      "text/plain": [
       "array([[6, 6, 6, 6, 6],\n",
       "       [6, 6, 6, 6, 6],\n",
       "       [6, 6, 6, 6, 6],\n",
       "       [6, 6, 6, 6, 6]])"
      ]
     },
     "execution_count": 13,
     "metadata": {},
     "output_type": "execute_result"
    }
   ],
   "source": [
    "new_array = np.full((4,5),6)\n",
    "new_array"
   ]
  },
  {
   "cell_type": "markdown",
   "id": "08684ed5-b263-47f6-9ac6-832c2b8984a5",
   "metadata": {},
   "source": [
    "4. Return a new array of zeros with same shape and type as a given array.{Hint: np.zeros like}"
   ]
  },
  {
   "cell_type": "code",
   "execution_count": 23,
   "id": "7834fb36-7597-44d2-9dac-8a8ce1ed34e1",
   "metadata": {},
   "outputs": [
    {
     "data": {
      "text/plain": [
       "array([[0, 0, 0, 0, 0],\n",
       "       [0, 0, 0, 0, 0],\n",
       "       [0, 0, 0, 0, 0],\n",
       "       [0, 0, 0, 0, 0]])"
      ]
     },
     "execution_count": 23,
     "metadata": {},
     "output_type": "execute_result"
    }
   ],
   "source": [
    "new_zeros = np.zeros_like(new_array)\n",
    "new_zeros"
   ]
  },
  {
   "cell_type": "markdown",
   "id": "d750936c-0d00-41e8-ae43-f2a84d6f4722",
   "metadata": {},
   "source": [
    "5. Return a new array of ones with same shape and type as a given array.{Hint: np.ones like}"
   ]
  },
  {
   "cell_type": "code",
   "execution_count": 24,
   "id": "d24dd35d-b5fa-4c53-a096-acafb6c8564a",
   "metadata": {},
   "outputs": [
    {
     "data": {
      "text/plain": [
       "array([[1, 1, 1, 1, 1],\n",
       "       [1, 1, 1, 1, 1],\n",
       "       [1, 1, 1, 1, 1],\n",
       "       [1, 1, 1, 1, 1]])"
      ]
     },
     "execution_count": 24,
     "metadata": {},
     "output_type": "execute_result"
    }
   ],
   "source": [
    "new_ones = np.ones_like(new_array)\n",
    "new_ones"
   ]
  },
  {
   "cell_type": "markdown",
   "id": "29664299-09ad-4e34-b71c-586c2a8983d4",
   "metadata": {},
   "source": [
    "6. For an existing list new_list = [1,2,3,4] convert to an numpy array.{Hint: np.array()}"
   ]
  },
  {
   "cell_type": "code",
   "execution_count": 30,
   "id": "7e48e9dd-673a-4f8c-bc14-18a012d362b0",
   "metadata": {},
   "outputs": [
    {
     "data": {
      "text/plain": [
       "array([1, 2, 3, 4])"
      ]
     },
     "execution_count": 30,
     "metadata": {},
     "output_type": "execute_result"
    }
   ],
   "source": [
    "new_list = [1,2,3,4]\n",
    "a = np.array(new_list)\n",
    "a\n"
   ]
  },
  {
   "cell_type": "markdown",
   "id": "04d16bc4-6831-49aa-99b8-628c1a67b73f",
   "metadata": {},
   "source": [
    "**Problem - 2: Array Manipulation: Numerical Ranges and Array indexing:**"
   ]
  },
  {
   "cell_type": "markdown",
   "id": "45e22c47-b874-4b1c-936f-1756786cb3b9",
   "metadata": {},
   "source": [
    "Complete the following tasks:<br>\n",
    "1. Create an array with values ranging from 10 to 49. {Hint:np.arrange()}."
   ]
  },
  {
   "cell_type": "code",
   "execution_count": 35,
   "id": "2006791e-174d-4667-b865-4366855505f1",
   "metadata": {},
   "outputs": [
    {
     "data": {
      "text/plain": [
       "array([10, 11, 12, 13, 14, 15, 16, 17, 18, 19, 20, 21, 22, 23, 24, 25, 26,\n",
       "       27, 28, 29, 30, 31, 32, 33, 34, 35, 36, 37, 38, 39, 40, 41, 42, 43,\n",
       "       44, 45, 46, 47, 48, 49])"
      ]
     },
     "execution_count": 35,
     "metadata": {},
     "output_type": "execute_result"
    }
   ],
   "source": [
    "a = np.arange(10,50)\n",
    "a\n"
   ]
  },
  {
   "cell_type": "markdown",
   "id": "aa9b38ba-2c92-4220-8c53-54bb03138b1e",
   "metadata": {},
   "source": [
    "2. Create a 3X3 matrix with values ranging from 0 to 8.<br>\n",
    "{Hint:look for np.reshape()}"
   ]
  },
  {
   "cell_type": "code",
   "execution_count": 40,
   "id": "5f94099a-1c6b-43ff-b17b-4735332ef8d8",
   "metadata": {},
   "outputs": [
    {
     "data": {
      "text/plain": [
       "array([[0, 1, 2],\n",
       "       [3, 4, 5],\n",
       "       [6, 7, 8]])"
      ]
     },
     "execution_count": 40,
     "metadata": {},
     "output_type": "execute_result"
    }
   ],
   "source": [
    "b = np.arange((9))\n",
    "b = np.reshape(b, (3,3))\n",
    "b"
   ]
  },
  {
   "cell_type": "markdown",
   "id": "de7d86db-71fe-4123-a22a-09e9097ce89b",
   "metadata": {},
   "source": [
    "3. Create a 3X3 identity matrix.{Hint:np.eye()}"
   ]
  },
  {
   "cell_type": "code",
   "execution_count": 42,
   "id": "4eaa6453-65a5-4117-a02c-6f2e6c397c50",
   "metadata": {},
   "outputs": [
    {
     "data": {
      "text/plain": [
       "array([[1., 0., 0., 0.],\n",
       "       [0., 1., 0., 0.],\n",
       "       [0., 0., 1., 0.],\n",
       "       [0., 0., 0., 1.]])"
      ]
     },
     "execution_count": 42,
     "metadata": {},
     "output_type": "execute_result"
    }
   ],
   "source": [
    "np.eye(4,4)"
   ]
  },
  {
   "cell_type": "markdown",
   "id": "a86c744d-c9c4-4daa-aa69-2652b5149508",
   "metadata": {},
   "source": [
    "4. Create a random array of size 30 and find the mean of the array.<br>\n",
    "{Hint:check for np.random.random() and array.mean() function}"
   ]
  },
  {
   "cell_type": "code",
   "execution_count": 51,
   "id": "94a55910-bc68-4ac5-b20a-6b346cd982c6",
   "metadata": {},
   "outputs": [
    {
     "name": "stdout",
     "output_type": "stream",
     "text": [
      "[0.2929841  0.46875627 0.54544492 0.76021685 0.16987511 0.37104063\n",
      " 0.91295521 0.71172071 0.64839188 0.36847747 0.35885691 0.34051012\n",
      " 0.83696977 0.22940623 0.54805151 0.853007   0.00405231 0.14531637\n",
      " 0.84080661 0.41048537 0.62878058 0.92838084 0.18464444 0.10165458\n",
      " 0.32138984 0.36294428 0.33843037 0.46928069 0.3688393  0.25824104]\n",
      "Mean:  0.45933037667160675\n"
     ]
    }
   ],
   "source": [
    "a = np.random.random(30)\n",
    "print(a)\n",
    "b = a.mean()\n",
    "print(\"Mean: \", b)"
   ]
  },
  {
   "cell_type": "markdown",
   "id": "16fea476-e4d0-4cf2-9850-ea9d2c60a422",
   "metadata": {},
   "source": [
    "5. Create a 10X10 array with random values and find the minimum and maximum values."
   ]
  },
  {
   "cell_type": "code",
   "execution_count": 68,
   "id": "030ffbfa-2566-4b58-a8b6-8633d1594f9d",
   "metadata": {},
   "outputs": [
    {
     "name": "stdout",
     "output_type": "stream",
     "text": [
      "Min:  0.008271851363867877\n",
      "Min:  0.9998970091612058\n"
     ]
    }
   ],
   "source": [
    "r = np.random.random(100)\n",
    "s = np.reshape(r,(10,10))\n",
    "min = s.min()\n",
    "max = s.max()\n",
    "print(\"Min: \", min)\n",
    "print(\"Min: \", max)\n",
    "\n"
   ]
  },
  {
   "cell_type": "markdown",
   "id": "8a565fbd-c984-400c-bc59-29179f4587b4",
   "metadata": {},
   "source": [
    "6. Create a zero array of size 10 and replace 5th element with 1."
   ]
  },
  {
   "cell_type": "code",
   "execution_count": 65,
   "id": "21c20dc3-17e0-41c3-8131-eee3b1798f4e",
   "metadata": {},
   "outputs": [
    {
     "name": "stdout",
     "output_type": "stream",
     "text": [
      "[0. 0. 0. 0. 1. 0. 0. 0. 0. 0.]\n"
     ]
    }
   ],
   "source": [
    "zero = np.zeros(10)\n",
    "np.put(zero, 4, 1)\n",
    "print(zero)"
   ]
  },
  {
   "cell_type": "markdown",
   "id": "169d68cd-79e9-4e79-820c-3535c80fcb93",
   "metadata": {},
   "source": [
    "7. Reverse an array arr = [1,2,0,0,4,0]."
   ]
  },
  {
   "cell_type": "code",
   "execution_count": 72,
   "id": "e39cdf6c-cc30-4e28-8de5-ed23dbd5a603",
   "metadata": {},
   "outputs": [
    {
     "name": "stdout",
     "output_type": "stream",
     "text": [
      "[0 4 0 0 2 1]\n"
     ]
    }
   ],
   "source": [
    "arr = [1,2,0,0,4,0]\n",
    "a = np.flip(arr)\n",
    "print(a)"
   ]
  },
  {
   "cell_type": "markdown",
   "id": "a4234911-ef7d-4173-a182-c83905068985",
   "metadata": {},
   "source": [
    "8. Create a 2d array with 1 on border and 0 inside."
   ]
  },
  {
   "cell_type": "code",
   "execution_count": 79,
   "id": "0a64b656-e4ac-417c-937a-1eac7182cc68",
   "metadata": {},
   "outputs": [
    {
     "name": "stdout",
     "output_type": "stream",
     "text": [
      "[[1. 1. 1. 1. 1.]\n",
      " [1. 1. 1. 1. 1.]\n",
      " [1. 1. 1. 1. 1.]\n",
      " [1. 1. 1. 1. 1.]\n",
      " [1. 1. 1. 1. 1.]]\n"
     ]
    },
    {
     "data": {
      "text/plain": [
       "array([[1., 1., 1., 1., 1.],\n",
       "       [1., 0., 0., 0., 1.],\n",
       "       [1., 0., 0., 0., 1.],\n",
       "       [1., 0., 0., 0., 1.],\n",
       "       [1., 1., 1., 1., 1.]])"
      ]
     },
     "execution_count": 79,
     "metadata": {},
     "output_type": "execute_result"
    }
   ],
   "source": [
    "a = np.ones((5,5))\n",
    "print(a)\n",
    "a[1:-1, 1:-1] = 0\n",
    "a"
   ]
  },
  {
   "cell_type": "markdown",
   "id": "7779ba83-103f-4557-afe2-420ae01d3865",
   "metadata": {},
   "source": [
    "9. Create a 8X8 matrix and fill it with a checkerboard pattern."
   ]
  },
  {
   "cell_type": "code",
   "execution_count": 97,
   "id": "c58feda4-65bb-45b6-a13e-7738a9c3d569",
   "metadata": {},
   "outputs": [
    {
     "data": {
      "text/plain": [
       "array([[0., 1., 0., 1., 0., 1., 0., 1.],\n",
       "       [1., 0., 1., 0., 1., 0., 1., 0.],\n",
       "       [0., 1., 0., 1., 0., 1., 0., 1.],\n",
       "       [1., 0., 1., 0., 1., 0., 1., 0.],\n",
       "       [0., 1., 0., 1., 0., 1., 0., 1.],\n",
       "       [1., 0., 1., 0., 1., 0., 1., 0.],\n",
       "       [0., 1., 0., 1., 0., 1., 0., 1.],\n",
       "       [1., 0., 1., 0., 1., 0., 1., 0.]])"
      ]
     },
     "execution_count": 97,
     "metadata": {},
     "output_type": "execute_result"
    }
   ],
   "source": [
    "a = np.zeros((8,8))\n",
    "a[1::2,::2]=1\n",
    "a[::2,1::2]=1\n",
    "a\n"
   ]
  },
  {
   "cell_type": "markdown",
   "id": "ec70b204-8860-4a9d-af7f-c85f8c8053fc",
   "metadata": {},
   "source": [
    "Problem - 3: Array Operations: <br>\n",
    "For the following arrays: <br>\n",
    "x = np.array([[1,2],[3,5]]) and y = np.array([[5,6],[7,8]]); <br>\n",
    "v = np.array([9,10]) and w = np.array([11,12]); <br>\n",
    "Complete all the task using numpy:"
   ]
  },
  {
   "cell_type": "code",
   "execution_count": 3,
   "id": "2ccfd97c-1893-4d6a-8377-76b263f31fa3",
   "metadata": {},
   "outputs": [
    {
     "name": "stdout",
     "output_type": "stream",
     "text": [
      "Add:  [[ 6  8]\n",
      " [10 13]]\n",
      "Subtract:  [2 2]\n",
      "Multiply:  [[ 5 12]\n",
      " [21 40]]\n",
      "Square  [[25 36]\n",
      " [49 64]]\n",
      "Dot Product between v and w:  219\n",
      "Dot Product between x and v:  [29 77]\n",
      "Dot Product between x and y:  [[19 22]\n",
      " [50 58]]\n",
      "Concatenate x(and)y along row:  [[ 1  2]\n",
      " [ 3  5]\n",
      " [ 9 10]]\n"
     ]
    }
   ],
   "source": [
    "import numpy as np\n",
    "x = np.array([[1,2],[3,5]]) \n",
    "y = np.array([[5,6],[7,8]])\n",
    "v = np.array([9,10])\n",
    "w = np.array([11,12])\n",
    "\n",
    "# 1.Add two array\n",
    "print(\"Add: \",x+y)\n",
    "\n",
    "#2. Subtract the two array.\n",
    "print(\"Subtract: \", w-v)\n",
    "# 3. Multiply the array with any integers of your choice.\n",
    "print(\"Multiply: \", x*y)\n",
    "# 4. Find the square of each element of the array.\n",
    "print(\"Square \", y*y)\n",
    "# 5. Find the dot product between: v(and)w ; x(and)v ; x(and)y.\n",
    "print(\"Dot Product between v and w: \", np.dot(v,w))\n",
    "print(\"Dot Product between x and v: \", np.dot(x,v))\n",
    "print(\"Dot Product between x and y: \", np.dot(x,y))\n",
    "# 6. Concatenate x(and)y along row and Concatenate v(and)w along column.\n",
    "# {Hint:try np.concatenate() or np.vstack() functions.\n",
    "v_reshaped = v.reshape(1, 2)  # Shape becomes (1, 2)\n",
    "result = np.concatenate((x, v_reshaped), axis=0)  # Concatenate along rows\n",
    "print(\"Concatenate x(and)y along row: \", result)\n",
    "# 7. Concatenate x(and)v; if you get an error, observe and explain why did you get the error?\n",
    "\n"
   ]
  },
  {
   "cell_type": "markdown",
   "id": "87551878-39d8-4fc1-b924-b24f38255556",
   "metadata": {},
   "source": [
    "**Problem - 4: Matrix Operations:** <br>\n",
    "• For the following arrays:<br>\n",
    "A = np.array([[3,4],[7,8]]) and B = np.array([[5,3],[2,1]]);<br>\n",
    "Prove following with Numpy:"
   ]
  },
  {
   "cell_type": "code",
   "execution_count": 6,
   "id": "39649785-b4f5-44c2-abfd-ae2e89ba0af4",
   "metadata": {},
   "outputs": [
    {
     "name": "stdout",
     "output_type": "stream",
     "text": [
      "A * A_inverse = [[1.0000000e+00 4.4408921e-16]\n",
      " [0.0000000e+00 1.0000000e+00]]\n",
      "Is A * A_inverse equal to I?  True\n",
      "AB = \n",
      " [[23 13]\n",
      " [51 29]]\n",
      "BA = \n",
      " [[36 44]\n",
      " [13 16]]\n",
      "Is AB equal to BA?  False\n",
      "(AB)^T = \n",
      " [[23 51]\n",
      " [13 29]]\n",
      "B^T A^T = \n",
      " [[23 51]\n",
      " [13 29]]\n",
      "Is (AB)^T equal to B^T A^T?  True\n"
     ]
    }
   ],
   "source": [
    "A = np.array([[3,4],[7,8]])\n",
    "B = np.array([[5,3],[2,1]])\n",
    "A_inv = np.linalg.inv(A)\n",
    "result = np.dot(A, A_inv)\n",
    "I = np.eye(2)\n",
    "\n",
    "#1. Prove A.A−1 = I.\n",
    "print(\"A * A_inverse =\", result)\n",
    "print(\"Is A * A_inverse equal to I? \", np.allclose(result, I))\n",
    "AB = np.dot(A, B)\n",
    "BA = np.dot(B, A)\n",
    "\n",
    "#2. Prove AB ̸= BA.\n",
    "print(\"AB = \\n\", AB)\n",
    "print(\"BA = \\n\", BA)\n",
    "print(\"Is AB equal to BA? \", np.array_equal(AB, BA))\n",
    "\n",
    "#3. Prove (AB)T = BTAT\n",
    "AB_transpose = np.transpose(np.dot(A, B))\n",
    "BT_AT = np.dot(B.T, A.T)\n",
    "print(\"(AB)^T = \\n\", AB_transpose)\n",
    "print(\"B^T A^T = \\n\", BT_AT)\n",
    "print(\"Is (AB)^T equal to B^T A^T? \", np.allclose(AB_transpose, BT_AT))\n"
   ]
  },
  {
   "cell_type": "markdown",
   "id": "422723f8-c337-479b-9370-f6a1af7893ce",
   "metadata": {},
   "source": [
    "• Solve the following system of Linear equation using Inverse Methods."
   ]
  },
  {
   "cell_type": "code",
   "execution_count": 8,
   "id": "bbc05b5a-f4b9-4e64-a8d2-1549982411da",
   "metadata": {},
   "outputs": [],
   "source": [
    "A = np.array([[2, -3, 1], [1, -1, 2], [3, 1, -1]])\n",
    "B = np.array([-1, -3, 9])\n",
    "A_inv = np.linalg.inv(A)\n",
    "X = np.dot(A_inv, B)\n",
    "\n",
    "print(\"Answer (x, y, z): \", X)\n",
    "X_direct = np.linalg.solve(A, B)\n",
    "print(\"Solving by using np.linalg.solve: \", X_direct)\n"
   ]
  },
  {
   "cell_type": "markdown",
   "id": "84379f42-9923-4d72-95b3-6e4f754943da",
   "metadata": {},
   "source": []
  },
  {
   "cell_type": "code",
   "execution_count": null,
   "id": "0138b68b-02eb-4094-a520-8e304548fac8",
   "metadata": {},
   "outputs": [],
   "source": []
  }
 ],
 "metadata": {
  "kernelspec": {
   "display_name": "Python 3 (ipykernel)",
   "language": "python",
   "name": "python3"
  },
  "language_info": {
   "codemirror_mode": {
    "name": "ipython",
    "version": 3
   },
   "file_extension": ".py",
   "mimetype": "text/x-python",
   "name": "python",
   "nbconvert_exporter": "python",
   "pygments_lexer": "ipython3",
   "version": "3.12.4"
  }
 },
 "nbformat": 4,
 "nbformat_minor": 5
}
